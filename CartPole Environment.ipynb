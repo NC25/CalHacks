{
 "cells": [
  {
   "cell_type": "code",
   "execution_count": 1,
   "metadata": {},
   "outputs": [
    {
     "name": "stdout",
     "output_type": "stream",
     "text": [
      "3\n"
     ]
    }
   ],
   "source": [
    "print(3)"
   ]
  },
  {
   "cell_type": "code",
   "execution_count": 2,
   "metadata": {},
   "outputs": [
    {
     "name": "stdout",
     "output_type": "stream",
     "text": [
      "Requirement already satisfied: gym in c:\\users\\ana\\path\\lib\\site-packages (0.17.1)\n",
      "Requirement already satisfied: scipy in c:\\users\\ana\\path\\lib\\site-packages (from gym) (1.4.1)\n",
      "Requirement already satisfied: six in c:\\users\\ana\\path\\lib\\site-packages (from gym) (1.14.0)\n",
      "Requirement already satisfied: cloudpickle<1.4.0,>=1.2.0 in c:\\users\\ana\\path\\lib\\site-packages (from gym) (1.3.0)\n",
      "Requirement already satisfied: numpy>=1.10.4 in c:\\users\\ana\\path\\lib\\site-packages (from gym) (1.18.1)\n",
      "Requirement already satisfied: pyglet<=1.5.0,>=1.4.0 in c:\\users\\ana\\path\\lib\\site-packages (from gym) (1.5.0)\n",
      "Requirement already satisfied: future in c:\\users\\ana\\path\\lib\\site-packages (from pyglet<=1.5.0,>=1.4.0->gym) (0.18.2)\n"
     ]
    }
   ],
   "source": [
    "!pip install gym"
   ]
  },
  {
   "cell_type": "code",
   "execution_count": 1,
   "metadata": {},
   "outputs": [],
   "source": [
    "import gym\n",
    "import random\n",
    "env_name = \"CartPole-v1\"\n",
    "#gym.make will set up the environment for our cartpole to move in \n",
    "env = gym.make(env_name) "
   ]
  },
  {
   "cell_type": "code",
   "execution_count": 3,
   "metadata": {},
   "outputs": [],
   "source": [
    "class Agent(): #Class will make custom actions\n",
    "    def _init_ (self, env): #construction to see actions available\n",
    "        self.action_size = env.action_space.n\n",
    "        print(\"Action space: \", self.action_size)\n",
    "        \n",
    "    def get_action(self): #method for choosing actions\n",
    "        action = random.choice(range(self.action_size))\n",
    "        return action\n",
    "    "
   ]
  },
  {
   "cell_type": "code",
   "execution_count": 7,
   "metadata": {},
   "outputs": [],
   "source": [
    "agent = Agent()\n",
    "env.reset()\n",
    "\n",
    "for _ in range(200): #At each timestep\n",
    "    action = env.action_space.sample() #we will get a random action\n",
    "    env.step(action)                   #this action will then be applied to the environment\n",
    "    env.render()                       #displays cartpole\n"
   ]
  },
  {
   "cell_type": "code",
   "execution_count": null,
   "metadata": {},
   "outputs": [],
   "source": []
  }
 ],
 "metadata": {
  "kernelspec": {
   "display_name": "Python 3",
   "language": "python",
   "name": "python3"
  },
  "language_info": {
   "codemirror_mode": {
    "name": "ipython",
    "version": 3
   },
   "file_extension": ".py",
   "mimetype": "text/x-python",
   "name": "python",
   "nbconvert_exporter": "python",
   "pygments_lexer": "ipython3",
   "version": "3.7.6"
  }
 },
 "nbformat": 4,
 "nbformat_minor": 4
}
